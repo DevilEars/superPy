{
  "cells": [
    {
      "cell_type": "markdown",
      "source": [
        "# Install the superQuery library"
      ],
      "metadata": {}
    },
    {
      "cell_type": "code",
      "source": [
        "!pip3 install superQuery"
      ],
      "outputs": [],
      "execution_count": null,
      "metadata": {}
    },
    {
      "cell_type": "markdown",
      "source": [
        "# Get your authentication details"
      ],
      "metadata": {}
    },
    {
      "cell_type": "markdown",
      "source": [
        "* Go to [superquery.io](https://superquery.io) and log in/sign up\n",
        "* In the left side-bar, click on the \"Integrations\" icon\n",
        "* Scroll down until you see \"Python\" and click \"Connect\"\n",
        "* Note the username and password\n",
        "* Insert your username and password into the 'xxxxxx' fields below"
      ],
      "metadata": {}
    },
    {
      "cell_type": "markdown",
      "source": [
        "# Set the environment variables"
      ],
      "metadata": {}
    },
    {
      "cell_type": "code",
      "source": [
        "%env SUPERQUERY_USERNAME=xxxxxx\n",
        "%env SUPERQUERY_PASSWORD=xxxxxx"
      ],
      "outputs": [],
      "execution_count": null,
      "metadata": {}
    },
    {
      "cell_type": "markdown",
      "source": [
        "# Import libraries"
      ],
      "metadata": {}
    },
    {
      "cell_type": "code",
      "source": [
        "from superQuery import superQuery"
      ],
      "outputs": [],
      "execution_count": null,
      "metadata": {}
    },
    {
      "cell_type": "markdown",
      "source": [
        "# Get a superQuery client"
      ],
      "metadata": {}
    },
    {
      "cell_type": "code",
      "source": [
        "client = superQuery.Client()"
      ],
      "outputs": [],
      "execution_count": null,
      "metadata": {}
    },
    {
      "cell_type": "markdown",
      "source": [
        "# Set your Google Cloud billing project"
      ],
      "metadata": {}
    },
    {
      "cell_type": "code",
      "source": [
        "client.project(\"yourBillingProjectId\")"
      ],
      "outputs": [],
      "execution_count": null,
      "metadata": {}
    },
    {
      "cell_type": "markdown",
      "source": [
        "# Get your data"
      ],
      "metadata": {}
    },
    {
      "cell_type": "markdown",
      "source": [
        "* After updating your authentication credentials as described above, note that we've added a query on a public dataset for you, ready to run out-of-the-box\n",
        "* If you want to run another query, just replace the current one"
      ],
      "metadata": {}
    },
    {
      "cell_type": "code",
      "source": [
        "QUERY = \"\"\"SELECT name FROM `bigquery-public-data.usa_names.usa_1910_current` LIMIT 10\"\"\"\n",
        "\n",
        "result = client.query(QUERY) "
      ],
      "outputs": [],
      "execution_count": null,
      "metadata": {}
    },
    {
      "cell_type": "markdown",
      "source": [
        "# Let's explore your data"
      ],
      "metadata": {}
    },
    {
      "cell_type": "markdown",
      "source": [
        "## Pandas dataframe with your data"
      ],
      "metadata": {}
    },
    {
      "cell_type": "code",
      "source": [
        "df = result.to_df()\n",
        "df.head(20)"
      ],
      "outputs": [],
      "execution_count": null,
      "metadata": {}
    },
    {
      "cell_type": "markdown",
      "source": [
        "## Statistics"
      ],
      "metadata": {}
    },
    {
      "cell_type": "code",
      "source": [
        "if (not result.stats.superParams[\"isDryRun\"]):\n",
        "    print(\"Data rows:\", result.stats.totalRows)\n",
        "    print(\"Workflow:\", \"Query\")\n",
        "    print(\"Cost: $ %.2f\" % round(result.stats.superQueryTotalCost, 2))\n",
        "    print(\"Savings %:\", result.stats.saving)\n",
        "    print(\"Was cache used?:\", result.stats.cacheUsed if hasattr(result.stats, \"cacheUsed\") else False)\n",
        "    print(\"Cache type:\", result.stats.cacheType if hasattr(result.stats, \"cacheUsed\") else \"None\")\n",
        "    print(\"DryRun flag: \", result.stats.superParams[\"isDryRun\"])\n",
        "else:\n",
        "    print(\"Workflow:\", \"DryRun\")\n",
        "    print(\"Potential BQ bytes scanned: \", result.stats.bigQueryTotalBytesProcessed)\n",
        "    print(\"Potential Data rows:\", result.stats.totalRows)\n",
        "    print(\"DryRun flag: \", result.stats.superParams[\"isDryRun\"])"
      ],
      "outputs": [],
      "execution_count": null,
      "metadata": {}
    }
  ],
  "metadata": {
    "kernelspec": {
      "name": "python3",
      "language": "python",
      "display_name": "Python 3"
    },
    "language_info": {
      "name": "python",
      "version": "3.6.8",
      "mimetype": "text/x-python",
      "codemirror_mode": {
        "name": "ipython",
        "version": 3
      },
      "pygments_lexer": "ipython3",
      "nbconvert_exporter": "python",
      "file_extension": ".py"
    },
    "kernel_info": {
      "name": "python3"
    },
    "nteract": {
      "version": "0.15.0"
    }
  },
  "nbformat": 4,
  "nbformat_minor": 2
}