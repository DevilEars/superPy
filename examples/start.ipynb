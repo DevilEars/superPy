{
 "cells": [
  {
   "cell_type": "markdown",
   "metadata": {},
   "source": [
    "# Get your authentication details"
   ]
  },
  {
   "cell_type": "markdown",
   "metadata": {},
   "source": [
    "* Go to [superquery.io](https://superquery.io) and log in/sign up\n",
    "* In the left side-bar, scroll down and click on \"Integrations\"\n",
    "* Scroll down until you see \"Python\" and click \"Connect\"\n",
    "* Note the username and password\n",
    "* Insert your username and password into the 'xxxxxx' fields below"
   ]
  },
  {
   "cell_type": "markdown",
   "metadata": {},
   "source": [
    "# Set the environment variables"
   ]
  },
  {
   "cell_type": "code",
   "execution_count": 1,
   "metadata": {},
   "outputs": [
    {
     "name": "stdout",
     "output_type": "stream",
     "text": [
      "env: SUPERQUERY_USERNAME=xxxxxxxxx\n",
      "env: SUPERQUERY_PASSWORD=xxxxxxxxx\n"
     ]
    }
   ],
   "source": [
    "%env SUPERQUERY_USERNAME=uiwooo9YL\n",
    "%env SUPERQUERY_PASSWORD=QS8kuyjJX6"
   ]
  },
  {
   "cell_type": "markdown",
   "metadata": {},
   "source": [
    "# Install the superQuery package"
   ]
  },
  {
   "cell_type": "code",
   "execution_count": null,
   "metadata": {},
   "outputs": [],
   "source": [
    "from superQuery import superQuery\n",
    "from itertools import islice\n",
    "import json"
   ]
  },
  {
   "cell_type": "markdown",
   "metadata": {},
   "source": [
    "# Import packages"
   ]
  },
  {
   "cell_type": "code",
   "execution_count": 18,
   "metadata": {},
   "outputs": [],
   "source": [
    "sq = superQuery()"
   ]
  },
  {
   "cell_type": "markdown",
   "metadata": {},
   "source": [
    "# Get a superQuery client"
   ]
  },
  {
   "cell_type": "code",
   "execution_count": 19,
   "metadata": {},
   "outputs": [],
   "source": [
    "client = SuperQuery.Client()"
   ]
  },
  {
   "cell_type": "markdown",
   "metadata": {},
   "source": [
    "# Get your data"
   ]
  },
  {
   "cell_type": "markdown",
   "metadata": {},
   "source": [
    "* After updating your authentication credentials as described above, note that we've added a query on a public dataset for you, ready to run out-of-the-box\n",
    "* If you want to run another query, just replace the current one"
   ]
  },
  {
   "cell_type": "code",
   "execution_count": 28,
   "metadata": {},
   "outputs": [
    {
     "name": "stdout",
     "output_type": "stream",
     "text": [
      "[sQ]...Connection to superQuery successful\n"
     ]
    }
   ],
   "source": [
    "QUERY = \"\"\"SELECT name FROM `bigquery-public-data.usa_names.usa_1910_current` LIMIT 10\"\"\"\n",
    "\n",
    "query_job = client.query(QUERY) "
   ]
  },
  {
   "cell_type": "markdown",
   "metadata": {},
   "source": [
    "# Let's explore your data"
   ]
  },
  {
   "cell_type": "code",
   "execution_count": null,
   "metadata": {},
   "outputs": [],
   "source": [
    "rows = query_job.result()"
   ]
  },
  {
   "cell_type": "markdown",
   "metadata": {},
   "source": [
    "## Pandas dataframe with your data"
   ]
  },
  {
   "cell_type": "code",
   "execution_count": null,
   "metadata": {},
   "outputs": [],
   "source": [
    "import pandas as pd\n",
    "df = pd.DataFrame(data=[x.to_dict() for x in rows])\n",
    "df.head(20)"
   ]
  },
  {
   "cell_type": "markdown",
   "metadata": {},
   "source": [
    "## Statistics"
   ]
  },
  {
   "cell_type": "code",
   "execution_count": 31,
   "metadata": {},
   "outputs": [
    {
     "name": "stdout",
     "output_type": "stream",
     "text": [
      "Execution type: DryRun\n",
      "Potential BQ bytes scanned:  273619\n",
      "Potential Data rows: 8963\n",
      "Cost: 0\n",
      "DryRun flag:  False\n"
     ]
    }
   ],
   "source": [
    "if (not query_job.superParams[\"isDryRun\"]):\n",
    "    print(\"Data rows:\", query_job.totalRows)\n",
    "    print(\"Workflow:\", \"Query\")\n",
    "    print(\"Cost: $ %.2f\" % round(query_job.superQueryTotalCost, 2))\n",
    "    print(\"Savings %:\", query_job.saving)\n",
    "    print(\"Was cache used?:\", query_job.cacheUsed if hasattr(query_job, \"cacheUsed\") else False)\n",
    "    print(\"Cache type:\", query_job.cacheType if hasattr(query_job, \"cacheUsed\") else \"None\")\n",
    "    print(\"DryRun flag: \", query_job.superParams[\"isDryRun\"])\n",
    "else:\n",
    "    print(\"Workflow:\", \"DryRun\")\n",
    "    print(\"Potential BQ bytes scanned: \", query_job.bigQueryTotalBytesProcessed)\n",
    "    print(\"Potential Data rows:\", query_job.totalRows)\n",
    "    print(\"DryRun flag: \", query_job.superParams[\"isDryRun\"])"
   ]
  }
 ],
 "metadata": {
  "kernelspec": {
   "display_name": "Python 3",
   "language": "python",
   "name": "python3"
  },
  "language_info": {
   "codemirror_mode": {
    "name": "ipython",
    "version": 3
   },
   "file_extension": ".py",
   "mimetype": "text/x-python",
   "name": "python",
   "nbconvert_exporter": "python",
   "pygments_lexer": "ipython3",
   "version": "3.7.3"
  }
 },
 "nbformat": 4,
 "nbformat_minor": 2
}
