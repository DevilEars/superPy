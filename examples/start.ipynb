{
 "cells": [
  {
   "cell_type": "markdown",
   "metadata": {},
   "source": [
    "# Import packages"
   ]
  },
  {
   "cell_type": "code",
   "execution_count": 18,
   "metadata": {},
   "outputs": [],
   "source": [
    "from superQuery import SuperQuery\n",
    "from itertools import islice\n",
    "import json"
   ]
  },
  {
   "cell_type": "markdown",
   "metadata": {},
   "source": [
    "# Create superQuery instance"
   ]
  },
  {
   "cell_type": "code",
   "execution_count": 19,
   "metadata": {},
   "outputs": [],
   "source": [
    "sq = SuperQuery()"
   ]
  },
  {
   "cell_type": "markdown",
   "metadata": {},
   "source": [
    "# Get your data"
   ]
  },
  {
   "cell_type": "code",
   "execution_count": 28,
   "metadata": {},
   "outputs": [
    {
     "name": "stdout",
     "output_type": "stream",
     "text": [
      "[sQ]...Connection to superQuery successful\n"
     ]
    }
   ],
   "source": [
    "# We don't want to do a dry-run\n",
    "dryrun = False\n",
    "\n",
    "mydata = sq.get_data(\n",
    "    \"\"\"SELECT field1, field2 FROM `projectId.datasetId.tableId` WHERE _PARTITIONTIME = \\\"2019-05-04\\\" ORDER BY field1 ASC\"\"\", \n",
    "    dry_run = dryrun,\n",
    "    username=\"xxxxxx\", \n",
    "    password=\"xxxxxx\") # Get your login details by signing into superquery.io and clicking on Integrations."
   ]
  },
  {
   "cell_type": "markdown",
   "metadata": {},
   "source": [
    "# Let's explore your data"
   ]
  },
  {
   "cell_type": "markdown",
   "metadata": {},
   "source": [
    "## Stats"
   ]
  },
  {
   "cell_type": "code",
   "execution_count": 31,
   "metadata": {},
   "outputs": [
    {
     "name": "stdout",
     "output_type": "stream",
     "text": [
      "Execution type: DryRun\n",
      "Potential BQ bytes scanned:  273619\n",
      "Potential Data rows: 8963\n",
      "Cost: 0\n",
      "DryRun flag:  False\n"
     ]
    }
   ],
   "source": [
    "if (not dryrun):\n",
    "    print(\"Data rows:\", mydata.totalRows)\n",
    "    print(\"Workflow:\", \"Query\")\n",
    "    print(\"Cost:\", mydata.superQueryTotalCost)\n",
    "    print(\"Savings %:\", mydata.saving)\n",
    "    print(\"Was cache used?:\", mydata.cacheUsed if hasattr(mydata, \"cacheUsed\") else False)\n",
    "    print(\"DryRun flag: \", mydata.superParams[\"isDryRun\"])\n",
    "else:\n",
    "    print(\"Execution type:\", \"DryRun\")\n",
    "    print(\"Potential BQ bytes scanned: \", mydata.bigQueryTotalBytesProcessed)\n",
    "    print(\"Potential Data rows:\", mydata.totalRows)\n",
    "    print(\"Cost:\", mydata.superQueryTotalCost)\n",
    "    print(\"DryRun flag: \", mydata.superParams[\"isDryRun\"])"
   ]
  },
  {
   "cell_type": "markdown",
   "metadata": {},
   "source": [
    "## Let's get only a specific amount of rows"
   ]
  },
  {
   "cell_type": "markdown",
   "metadata": {},
   "source": [
    "### First 6k rows"
   ]
  },
  {
   "cell_type": "code",
   "execution_count": 26,
   "metadata": {},
   "outputs": [
    {
     "name": "stdout",
     "output_type": "stream",
     "text": [
      "6000\n"
     ]
    }
   ],
   "source": [
    "first6k_rows = list(islice(mydata, 6000))  \n",
    "print(len(first6k_rows))"
   ]
  },
  {
   "cell_type": "markdown",
   "metadata": {},
   "source": [
    "## Can we get another 6k rows? No, we only have 8963 in total"
   ]
  },
  {
   "cell_type": "code",
   "execution_count": 27,
   "metadata": {},
   "outputs": [
    {
     "name": "stdout",
     "output_type": "stream",
     "text": [
      "2963\n"
     ]
    }
   ],
   "source": [
    "next6k_rows = list(islice(mydata, 6000))  \n",
    "print(len(next6k_rows))"
   ]
  },
  {
   "cell_type": "code",
   "execution_count": null,
   "metadata": {},
   "outputs": [],
   "source": []
  }
 ],
 "metadata": {
  "kernelspec": {
   "display_name": "Python 3",
   "language": "python",
   "name": "python3"
  },
  "language_info": {
   "codemirror_mode": {
    "name": "ipython",
    "version": 3
   },
   "file_extension": ".py",
   "mimetype": "text/x-python",
   "name": "python",
   "nbconvert_exporter": "python",
   "pygments_lexer": "ipython3",
   "version": "3.7.3"
  }
 },
 "nbformat": 4,
 "nbformat_minor": 2
}
